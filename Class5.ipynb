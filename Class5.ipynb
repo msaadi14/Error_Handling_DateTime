{
 "cells": [
  {
   "cell_type": "code",
   "execution_count": 1,
   "id": "9b49ca2d-95d8-4a0c-a9ec-5b2469a62de9",
   "metadata": {},
   "outputs": [
    {
     "name": "stdout",
     "output_type": "stream",
     "text": [
      "10\n",
      "4\n"
     ]
    }
   ],
   "source": [
    "print(10)\n",
    "\"\"\"\n",
    "print(2)\n",
    "print(3)\n",
    "\"\"\"\n",
    "print(4)\n",
    "\n",
    "# Adding triple quotes before and after makes multi line comment,."
   ]
  },
  {
   "cell_type": "code",
   "execution_count": 33,
   "id": "8886b23d-28d0-41a9-80eb-90bbc3a25bf7",
   "metadata": {},
   "outputs": [
    {
     "data": {
      "text/plain": [
       "115"
      ]
     },
     "execution_count": 33,
     "metadata": {},
     "output_type": "execute_result"
    }
   ],
   "source": [
    "def my_sum(x1,*x):\n",
    "    \"\"\"\n",
    "We have made this in NED class\n",
    "This is a description of function which will be shown in my_sum? command as can be seen below.\n",
    "You have to write it in the function which means before return command to make it description of the function know as Docstring otherwise it won't become the description (Docstring) and will not be shown in my_sum? command.\n",
    "    \"\"\"\n",
    "    return x1+sum(x)\n",
    "\n",
    "my_sum(100,1,2,3,4,5)"
   ]
  },
  {
   "cell_type": "code",
   "execution_count": 19,
   "id": "8710b2b6-97e0-4b96-869f-e155ee6c4630",
   "metadata": {},
   "outputs": [
    {
     "data": {
      "text/plain": [
       "\u001b[1;31mSignature:\u001b[0m \u001b[0mmy_sum\u001b[0m\u001b[1;33m(\u001b[0m\u001b[0mx1\u001b[0m\u001b[1;33m,\u001b[0m \u001b[1;33m*\u001b[0m\u001b[0mx\u001b[0m\u001b[1;33m)\u001b[0m\u001b[1;33m\u001b[0m\u001b[1;33m\u001b[0m\u001b[0m\n",
       "\u001b[1;31mDocstring:\u001b[0m\n",
       "We have made this in NED class\n",
       "This is a description of function which will be shown in my_sum? command as can be seen below.\n",
       "\n",
       "    \n",
       "\u001b[1;31mFile:\u001b[0m      c:\\users\\hp\\appdata\\local\\temp\\ipykernel_1464\\691871734.py\n",
       "\u001b[1;31mType:\u001b[0m      function"
      ]
     },
     "metadata": {},
     "output_type": "display_data"
    }
   ],
   "source": [
    "my_sum?"
   ]
  },
  {
   "cell_type": "code",
   "execution_count": 31,
   "id": "2b42fd29-6857-40e3-a450-92523bb8acd9",
   "metadata": {},
   "outputs": [
    {
     "name": "stdout",
     "output_type": "stream",
     "text": [
      "7\n",
      "8\n",
      "sum= 15\n"
     ]
    }
   ],
   "source": [
    "code_in_object=\"\"\"\n",
    "a=7\n",
    "b=8\n",
    "c=a+b\n",
    "print(a)\n",
    "print(b)\n",
    "print(\"sum=\",c)\n",
    "\"\"\"\n",
    "\n",
    "code_in_string=compile(code_in_object,'ab','exec')\n",
    "exec(code_in_string)\n",
    "\n",
    "# ab is the temporary file name in compile command because python requires that if you are running a code through compile that was a string then you have to make a temperory file name for it which can be anyname.\n",
    "# exec in compile says that this variable will be executed."
   ]
  },
  {
   "cell_type": "code",
   "execution_count": 45,
   "id": "c1c442fc-39ea-43e2-a190-7abbc73dc0d3",
   "metadata": {},
   "outputs": [
    {
     "data": {
      "text/plain": [
       "NoneType"
      ]
     },
     "execution_count": 45,
     "metadata": {},
     "output_type": "execute_result"
    }
   ],
   "source": [
    "abc=None\n",
    "type(abc)"
   ]
  },
  {
   "cell_type": "code",
   "execution_count": 49,
   "id": "960ad66f-fc48-46e4-a0d1-b27389a0b326",
   "metadata": {},
   "outputs": [
    {
     "name": "stdin",
     "output_type": "stream",
     "text": [
      "Number1: 7\n",
      "Number2: 8\n"
     ]
    },
    {
     "name": "stdout",
     "output_type": "stream",
     "text": [
      "78\n",
      "<class 'str'>\n"
     ]
    }
   ],
   "source": [
    "a=input(\"Number1:\") # This a and b is string data type as it has \"\".\n",
    "b=input(\"Number2:\")\n",
    "\n",
    "print(a+b) # since it a and b is string values the + sign will concetenate the values and not sum and for sum we have to make a and b integers.\n",
    "print(type(a) and type(b))"
   ]
  },
  {
   "cell_type": "code",
   "execution_count": 51,
   "id": "0e24c2c6-7b24-4d3a-ae8c-78fd6b5bc31f",
   "metadata": {},
   "outputs": [
    {
     "name": "stdin",
     "output_type": "stream",
     "text": [
      "Number1: 7\n",
      "Number2: 8\n"
     ]
    },
    {
     "name": "stdout",
     "output_type": "stream",
     "text": [
      "15\n",
      "<class 'str'>\n"
     ]
    }
   ],
   "source": [
    "a=input(\"Number1:\") # This a and b is string data type as it has \"\".\n",
    "b=input(\"Number2:\")\n",
    "\n",
    "print(int(a)+int(b)) # since it a and b is string values the + sign will concetenate the values and not sum and for sum we have to make a and b integers which we are doing right now.\n",
    "print(type(a) and type(b))"
   ]
  },
  {
   "cell_type": "code",
   "execution_count": 55,
   "id": "511fef67-b215-4cf0-a8ce-f30841291654",
   "metadata": {},
   "outputs": [
    {
     "name": "stdin",
     "output_type": "stream",
     "text": [
      "Number1: 7\n",
      "Number2: 8\n"
     ]
    },
    {
     "name": "stdout",
     "output_type": "stream",
     "text": [
      "15\n",
      "<class 'int'>\n"
     ]
    }
   ],
   "source": [
    "a=int(input(\"Number1:\"))\n",
    "b=int(input(\"Number2:\"))\n",
    "\n",
    "print(a+b)\n",
    "print(type(a) and type(b))"
   ]
  },
  {
   "cell_type": "code",
   "execution_count": 57,
   "id": "29dbabad-75ed-457d-aa55-7907e4d42b8a",
   "metadata": {},
   "outputs": [
    {
     "data": {
      "text/plain": [
       "'ABCDEFGHIJKLMNOPQRSTUVWXYZ'"
      ]
     },
     "execution_count": 57,
     "metadata": {},
     "output_type": "execute_result"
    }
   ],
   "source": [
    "\"ABCDEFGHIJKLMNOPQRSTUVWXYZ\""
   ]
  },
  {
   "cell_type": "code",
   "execution_count": 59,
   "id": "9fdb4ab1-8fe5-4806-af19-85c81746bc0d",
   "metadata": {},
   "outputs": [
    {
     "data": {
      "text/plain": [
       "['A',\n",
       " 'B',\n",
       " 'C',\n",
       " 'D',\n",
       " 'E',\n",
       " 'F',\n",
       " 'G',\n",
       " 'H',\n",
       " 'I',\n",
       " 'J',\n",
       " 'K',\n",
       " 'L',\n",
       " 'M',\n",
       " 'N',\n",
       " 'O',\n",
       " 'P',\n",
       " 'Q',\n",
       " 'R',\n",
       " 'S',\n",
       " 'T',\n",
       " 'U',\n",
       " 'V',\n",
       " 'W',\n",
       " 'X',\n",
       " 'Y',\n",
       " 'Z']"
      ]
     },
     "execution_count": 59,
     "metadata": {},
     "output_type": "execute_result"
    }
   ],
   "source": [
    "list(\"ABCDEFGHIJKLMNOPQRSTUVWXYZ\")"
   ]
  },
  {
   "cell_type": "code",
   "execution_count": 63,
   "id": "0b563298-1ad3-4e3e-acb5-009b459e9a09",
   "metadata": {},
   "outputs": [
    {
     "data": {
      "text/plain": [
       "[('a', 1), ('b', 2), ('c', 3)]"
      ]
     },
     "execution_count": 63,
     "metadata": {},
     "output_type": "execute_result"
    }
   ],
   "source": [
    "keys=[\"a\",\"b\",\"c\"]\n",
    "values=[1,2,3]\n",
    "\n",
    "list(zip(keys,values)) # List is an iterative data type so works with list."
   ]
  },
  {
   "cell_type": "code",
   "execution_count": 71,
   "id": "79a5dc77-0b90-44c9-9a71-8db493d63729",
   "metadata": {},
   "outputs": [
    {
     "data": {
      "text/plain": [
       "{'a': 1, 'b': 2, 'c': 3}"
      ]
     },
     "execution_count": 71,
     "metadata": {},
     "output_type": "execute_result"
    }
   ],
   "source": [
    "{k:v for k,v in zip(keys,values)} # this is how you made the dictionary using zip."
   ]
  },
  {
   "cell_type": "code",
   "execution_count": 77,
   "id": "d45a9fd6-73ed-4c4f-92b8-150b696b3804",
   "metadata": {},
   "outputs": [
    {
     "ename": "TypeError",
     "evalue": "dict expected at most 1 argument, got 2",
     "output_type": "error",
     "traceback": [
      "\u001b[1;31m---------------------------------------------------------------------------\u001b[0m",
      "\u001b[1;31mTypeError\u001b[0m                                 Traceback (most recent call last)",
      "Cell \u001b[1;32mIn[77], line 1\u001b[0m\n\u001b[1;32m----> 1\u001b[0m \u001b[38;5;28mdict\u001b[39m(keys,values)\n",
      "\u001b[1;31mTypeError\u001b[0m: dict expected at most 1 argument, got 2"
     ]
    }
   ],
   "source": [
    "dict(keys,values) # You cannot use dict command to make dictionary by zipping two lists. You have to run for loop like above in a dictionary."
   ]
  },
  {
   "cell_type": "code",
   "execution_count": 93,
   "id": "c726848e-04f6-4a8b-a9b3-82d90eda6373",
   "metadata": {},
   "outputs": [
    {
     "data": {
      "text/plain": [
       "{'id': ['1', '2', '3', '4', '5', '6', '7', '8', '9'],\n",
       " 'name': ['A', 'B', 'C', 'D', 'E', 'F', 'G', 'H', 'I']}"
      ]
     },
     "execution_count": 93,
     "metadata": {},
     "output_type": "execute_result"
    }
   ],
   "source": [
    "data={\"id\":list(\"123456789\"),\n",
    "      \"name\":list(\"ABCDEFGHI\")}\n",
    "data"
   ]
  },
  {
   "cell_type": "code",
   "execution_count": 95,
   "id": "8b1869e2-ebf5-4bf0-aafa-92dccf980e07",
   "metadata": {},
   "outputs": [
    {
     "data": {
      "text/html": [
       "<div>\n",
       "<style scoped>\n",
       "    .dataframe tbody tr th:only-of-type {\n",
       "        vertical-align: middle;\n",
       "    }\n",
       "\n",
       "    .dataframe tbody tr th {\n",
       "        vertical-align: top;\n",
       "    }\n",
       "\n",
       "    .dataframe thead th {\n",
       "        text-align: right;\n",
       "    }\n",
       "</style>\n",
       "<table border=\"1\" class=\"dataframe\">\n",
       "  <thead>\n",
       "    <tr style=\"text-align: right;\">\n",
       "      <th></th>\n",
       "      <th>id</th>\n",
       "      <th>name</th>\n",
       "    </tr>\n",
       "  </thead>\n",
       "  <tbody>\n",
       "    <tr>\n",
       "      <th>0</th>\n",
       "      <td>1</td>\n",
       "      <td>A</td>\n",
       "    </tr>\n",
       "    <tr>\n",
       "      <th>1</th>\n",
       "      <td>2</td>\n",
       "      <td>B</td>\n",
       "    </tr>\n",
       "    <tr>\n",
       "      <th>2</th>\n",
       "      <td>3</td>\n",
       "      <td>C</td>\n",
       "    </tr>\n",
       "    <tr>\n",
       "      <th>3</th>\n",
       "      <td>4</td>\n",
       "      <td>D</td>\n",
       "    </tr>\n",
       "    <tr>\n",
       "      <th>4</th>\n",
       "      <td>5</td>\n",
       "      <td>E</td>\n",
       "    </tr>\n",
       "    <tr>\n",
       "      <th>5</th>\n",
       "      <td>6</td>\n",
       "      <td>F</td>\n",
       "    </tr>\n",
       "    <tr>\n",
       "      <th>6</th>\n",
       "      <td>7</td>\n",
       "      <td>G</td>\n",
       "    </tr>\n",
       "    <tr>\n",
       "      <th>7</th>\n",
       "      <td>8</td>\n",
       "      <td>H</td>\n",
       "    </tr>\n",
       "    <tr>\n",
       "      <th>8</th>\n",
       "      <td>9</td>\n",
       "      <td>I</td>\n",
       "    </tr>\n",
       "  </tbody>\n",
       "</table>\n",
       "</div>"
      ],
      "text/plain": [
       "  id name\n",
       "0  1    A\n",
       "1  2    B\n",
       "2  3    C\n",
       "3  4    D\n",
       "4  5    E\n",
       "5  6    F\n",
       "6  7    G\n",
       "7  8    H\n",
       "8  9    I"
      ]
     },
     "execution_count": 95,
     "metadata": {},
     "output_type": "execute_result"
    }
   ],
   "source": [
    "import pandas as pd # this is a package in python which we have imported as pd.\n",
    "\n",
    "df=pd.DataFrame(data) #DataFrame is a pandas function to make the data in a dataframe. We call this function with pandas name which is pd in this case.\n",
    "\n",
    "df # the lenght of all arrays which means both columns must be same."
   ]
  },
  {
   "cell_type": "code",
   "execution_count": 103,
   "id": "81995c81-c82e-4c5f-b3ff-d549c1356aaa",
   "metadata": {},
   "outputs": [
    {
     "name": "stdin",
     "output_type": "stream",
     "text": [
      "enter your name Saadi\n",
      "enter your name Hadi\n",
      "enter your name Osaama\n",
      "enter your name Dawood\n",
      "enter your name x\n"
     ]
    },
    {
     "data": {
      "text/plain": [
       "['Saadi', 'Hadi', 'Osaama', 'Dawood']"
      ]
     },
     "execution_count": 103,
     "metadata": {},
     "output_type": "execute_result"
    }
   ],
   "source": [
    "Names=[]\n",
    "\n",
    "while True: # this is true block so that while loop can run. As we don't have any condition here for while loop to run we put a true block for it to run.\n",
    "    name=input(\"enter your name\")\n",
    "    if name==\"x\" or name==\"X\" or name==\"Exit\":\n",
    "        break # The moment i will enter x or X or Exit as name loop will break and list will be generated.\n",
    "    Names.append(name)\n",
    "Names"
   ]
  },
  {
   "cell_type": "code",
   "execution_count": null,
   "id": "48f57887-eddd-4eba-9096-4b5c9ccd344c",
   "metadata": {},
   "outputs": [],
   "source": [
    "# we use while loop if we want to run the loop infinite time without condition using break to stop or with condition without break \n",
    "# we use for loop if we want to run loop for fixed lenght."
   ]
  },
  {
   "cell_type": "code",
   "execution_count": 113,
   "id": "bd26f7bf-8a40-4367-b49a-75be0b4c7bb3",
   "metadata": {},
   "outputs": [
    {
     "name": "stdout",
     "output_type": "stream",
     "text": [
      "['a', 'b', 'c']\n",
      "['x', 'y', 'z']\n",
      "['a', 'b', 'c', ['x', 'y', 'z']]\n"
     ]
    }
   ],
   "source": [
    "l1=list(\"abc\")\n",
    "print(l1)\n",
    "l2=list(\"xyz\")\n",
    "print(l2)\n",
    "l1.append(l2) # l2 will be appended as list. Use extend function instead if you want each element of l2 to be appended individually.\n",
    "print(l1)"
   ]
  },
  {
   "cell_type": "code",
   "execution_count": 117,
   "id": "04270f6b-3b6c-44de-a1f7-4b2b14ab612b",
   "metadata": {},
   "outputs": [
    {
     "name": "stdout",
     "output_type": "stream",
     "text": [
      "['a', 'b', 'c']\n",
      "['x', 'y', 'z']\n",
      "['a', 'b', 'c', 'x', 'y', 'z']\n"
     ]
    }
   ],
   "source": [
    "l1=list(\"abc\")\n",
    "print(l1)\n",
    "l2=list(\"xyz\")\n",
    "print(l2)\n",
    "l1.extend(l2) #extend is like append but it will append each element of list individually.\n",
    "print(l1)"
   ]
  },
  {
   "cell_type": "code",
   "execution_count": 123,
   "id": "49852e0b-13a9-4fff-ad20-29084747c2c7",
   "metadata": {},
   "outputs": [
    {
     "data": {
      "text/html": [
       "<div>\n",
       "<style scoped>\n",
       "    .dataframe tbody tr th:only-of-type {\n",
       "        vertical-align: middle;\n",
       "    }\n",
       "\n",
       "    .dataframe tbody tr th {\n",
       "        vertical-align: top;\n",
       "    }\n",
       "\n",
       "    .dataframe thead th {\n",
       "        text-align: right;\n",
       "    }\n",
       "</style>\n",
       "<table border=\"1\" class=\"dataframe\">\n",
       "  <thead>\n",
       "    <tr style=\"text-align: right;\">\n",
       "      <th></th>\n",
       "      <th>name</th>\n",
       "      <th>age</th>\n",
       "    </tr>\n",
       "  </thead>\n",
       "  <tbody>\n",
       "    <tr>\n",
       "      <th>0</th>\n",
       "      <td>Saadi</td>\n",
       "      <td>26</td>\n",
       "    </tr>\n",
       "    <tr>\n",
       "      <th>1</th>\n",
       "      <td>Hadi</td>\n",
       "      <td>33</td>\n",
       "    </tr>\n",
       "    <tr>\n",
       "      <th>2</th>\n",
       "      <td>Dawood</td>\n",
       "      <td>26</td>\n",
       "    </tr>\n",
       "    <tr>\n",
       "      <th>3</th>\n",
       "      <td>Osama</td>\n",
       "      <td>24</td>\n",
       "    </tr>\n",
       "  </tbody>\n",
       "</table>\n",
       "</div>"
      ],
      "text/plain": [
       "     name  age\n",
       "0   Saadi   26\n",
       "1    Hadi   33\n",
       "2  Dawood   26\n",
       "3   Osama   24"
      ]
     },
     "execution_count": 123,
     "metadata": {},
     "output_type": "execute_result"
    }
   ],
   "source": [
    "import pandas as pd\n",
    "student_data=pd.read_excel(\"Student Data.xlsx\") # you are opening the file from the folder from where this notebook is running.\n",
    "student_data"
   ]
  },
  {
   "cell_type": "code",
   "execution_count": 127,
   "id": "587eb798-63ef-4f16-8853-a8c6928df4e6",
   "metadata": {},
   "outputs": [
    {
     "data": {
      "text/plain": [
       "0     saadi\n",
       "1      hadi\n",
       "2    dawood\n",
       "3     osama\n",
       "Name: name, dtype: object"
      ]
     },
     "execution_count": 127,
     "metadata": {},
     "output_type": "execute_result"
    }
   ],
   "source": [
    "student_data['name'].apply(str.lower) # we have just applied the lower case function here. We have not over writed the column and have just applied the function using apply function."
   ]
  },
  {
   "cell_type": "code",
   "execution_count": 129,
   "id": "65800968-b4ef-4c06-8753-ed719b933483",
   "metadata": {},
   "outputs": [
    {
     "data": {
      "text/html": [
       "<div>\n",
       "<style scoped>\n",
       "    .dataframe tbody tr th:only-of-type {\n",
       "        vertical-align: middle;\n",
       "    }\n",
       "\n",
       "    .dataframe tbody tr th {\n",
       "        vertical-align: top;\n",
       "    }\n",
       "\n",
       "    .dataframe thead th {\n",
       "        text-align: right;\n",
       "    }\n",
       "</style>\n",
       "<table border=\"1\" class=\"dataframe\">\n",
       "  <thead>\n",
       "    <tr style=\"text-align: right;\">\n",
       "      <th></th>\n",
       "      <th>name</th>\n",
       "      <th>age</th>\n",
       "    </tr>\n",
       "  </thead>\n",
       "  <tbody>\n",
       "    <tr>\n",
       "      <th>0</th>\n",
       "      <td>saadi</td>\n",
       "      <td>26</td>\n",
       "    </tr>\n",
       "    <tr>\n",
       "      <th>1</th>\n",
       "      <td>hadi</td>\n",
       "      <td>33</td>\n",
       "    </tr>\n",
       "    <tr>\n",
       "      <th>2</th>\n",
       "      <td>dawood</td>\n",
       "      <td>26</td>\n",
       "    </tr>\n",
       "    <tr>\n",
       "      <th>3</th>\n",
       "      <td>osama</td>\n",
       "      <td>24</td>\n",
       "    </tr>\n",
       "  </tbody>\n",
       "</table>\n",
       "</div>"
      ],
      "text/plain": [
       "     name  age\n",
       "0   saadi   26\n",
       "1    hadi   33\n",
       "2  dawood   26\n",
       "3   osama   24"
      ]
     },
     "execution_count": 129,
     "metadata": {},
     "output_type": "execute_result"
    }
   ],
   "source": [
    "student_data['name']=student_data['name'].apply(str.lower) # Here we have made the change permanent and have overwrited the data by applying lower case function.\n",
    "student_data "
   ]
  },
  {
   "cell_type": "code",
   "execution_count": 131,
   "id": "6dbd1e89-9bc5-47f5-9bae-45edaa197b02",
   "metadata": {},
   "outputs": [],
   "source": [
    "student_data.to_excel(\"Output.xlsx\") # Now you have made this changed file saved in the folder from where this notebook is running."
   ]
  },
  {
   "cell_type": "code",
   "execution_count": 133,
   "id": "378fc204-7f89-4005-919e-fc1b24ad1976",
   "metadata": {},
   "outputs": [],
   "source": [
    "student_data.to_excel(\"Output1.xlsx\", index=False) # Now you have made this changed file saved in the folder from where this notebook is running without the index which is left most column from 0 to 3."
   ]
  },
  {
   "cell_type": "code",
   "execution_count": 245,
   "id": "50aa6d66-d368-4412-9a31-6a228b4efcf0",
   "metadata": {},
   "outputs": [
    {
     "name": "stdout",
     "output_type": "stream",
     "text": [
      "Saadi\n",
      "Hadi\n",
      "Dawood\n",
      "Osama\n",
      "\n"
     ]
    }
   ],
   "source": [
    "with open(\"attendance.txt\") as f:\n",
    "    a=f.read()\n",
    "    print(a)\n",
    "# This is how you read a txt file."
   ]
  },
  {
   "cell_type": "markdown",
   "id": "103e9310-b0f4-4ba2-807d-8ae44a1ffdcb",
   "metadata": {},
   "source": [
    "## Error Handling"
   ]
  },
  {
   "cell_type": "code",
   "execution_count": 137,
   "id": "86d39365-2008-4905-87db-3385d270b385",
   "metadata": {},
   "outputs": [],
   "source": [
    "# There are three types of errors: 1) Development or compile time error which arises when you are developing a program and during development this error arises and you can resolve it while development.\n",
    "# 2) Run time error which arises when a program is developed and is running and it arises due to abnormal activity by the user.\n",
    "# 3) Logical error which can be error that doesn't prove logic like 2+2 should be 4 but program is giving 5."
   ]
  },
  {
   "cell_type": "code",
   "execution_count": 146,
   "id": "410f12ec-65fa-4a6e-88bc-c657005f4264",
   "metadata": {},
   "outputs": [],
   "source": [
    "# To manage run time error we use try and except to report errors in production. Run time error arises during running program and needs to be managed but you cannot afford that whole program crashes because of that error so you generally take common run time error and include them in your code with try and except to keep your program running if error arises."
   ]
  },
  {
   "cell_type": "code",
   "execution_count": 144,
   "id": "bdd92a95-7be1-46b0-8d7f-b73a64e53a80",
   "metadata": {},
   "outputs": [
    {
     "name": "stdout",
     "output_type": "stream",
     "text": [
      "pakistan\n",
      "pakistan\n"
     ]
    },
    {
     "ename": "ZeroDivisionError",
     "evalue": "division by zero",
     "output_type": "error",
     "traceback": [
      "\u001b[1;31m---------------------------------------------------------------------------\u001b[0m",
      "\u001b[1;31mZeroDivisionError\u001b[0m                         Traceback (most recent call last)",
      "Cell \u001b[1;32mIn[144], line 3\u001b[0m\n\u001b[0;32m      1\u001b[0m \u001b[38;5;28mprint\u001b[39m(\u001b[38;5;124m\"\u001b[39m\u001b[38;5;124mpakistan\u001b[39m\u001b[38;5;124m\"\u001b[39m)\n\u001b[0;32m      2\u001b[0m \u001b[38;5;28mprint\u001b[39m(\u001b[38;5;124m\"\u001b[39m\u001b[38;5;124mpakistan\u001b[39m\u001b[38;5;124m\"\u001b[39m)\n\u001b[1;32m----> 3\u001b[0m \u001b[38;5;28mprint\u001b[39m(\u001b[38;5;241m7\u001b[39m\u001b[38;5;241m/\u001b[39m\u001b[38;5;241m0\u001b[39m) \u001b[38;5;66;03m# Zero division error as division by zero not possible.\u001b[39;00m\n\u001b[0;32m      4\u001b[0m \u001b[38;5;28mprint\u001b[39m(\u001b[38;5;124m\"\u001b[39m\u001b[38;5;124mpakistan\u001b[39m\u001b[38;5;124m\"\u001b[39m)\n\u001b[0;32m      5\u001b[0m \u001b[38;5;28mprint\u001b[39m(\u001b[38;5;124m\"\u001b[39m\u001b[38;5;124mpakistan\u001b[39m\u001b[38;5;124m\"\u001b[39m)\n",
      "\u001b[1;31mZeroDivisionError\u001b[0m: division by zero"
     ]
    }
   ],
   "source": [
    "print(\"pakistan\")\n",
    "print(\"pakistan\")\n",
    "print(7/0) # Zero division error as division by zero not possible.\n",
    "print(\"pakistan\")\n",
    "print(\"pakistan\") # lines after error will not be printed."
   ]
  },
  {
   "cell_type": "code",
   "execution_count": 156,
   "id": "f0132cb8-f640-4036-b443-18ec94479756",
   "metadata": {},
   "outputs": [
    {
     "name": "stdout",
     "output_type": "stream",
     "text": [
      "paakistan\n",
      "Zero se divide nahi kar sakte\n",
      "Pakistan\n"
     ]
    }
   ],
   "source": [
    "print(\"paakistan\")\n",
    "try:\n",
    "    print(7/0) #try includes logic where error might arise.\n",
    "except(ZeroDivisionError,IndexError,KeyError): # I can add as many errors that might arise with try line.\n",
    "    print(\"Zero se divide nahi kar sakte\") # this line will be generated if any errr above mentioned arises. This is message that I want to display.\n",
    "\n",
    "print(\"Pakistan\") # this line will be printed despite the zero division error above.\n"
   ]
  },
  {
   "cell_type": "code",
   "execution_count": 160,
   "id": "5ec55ab8-a9eb-47b1-88a4-13180cf29161",
   "metadata": {},
   "outputs": [
    {
     "name": "stdout",
     "output_type": "stream",
     "text": [
      "pakistan\n",
      "3.0\n",
      "pakistan\n"
     ]
    }
   ],
   "source": [
    "print(\"pakistan\")\n",
    "try:\n",
    "    print(6/2) # it will print this as it has no error.\n",
    "\n",
    "except(ZeroDivisionError,IndexError,KeyError):\n",
    "    print(\"try again\")\n",
    "print(\"pakistan\")\n"
   ]
  },
  {
   "cell_type": "code",
   "execution_count": 166,
   "id": "81ae5e40-9678-4620-a26d-ce2c8626187f",
   "metadata": {},
   "outputs": [
    {
     "name": "stdout",
     "output_type": "stream",
     "text": [
      "pakistan\n",
      "try again\n",
      "pakistan\n"
     ]
    }
   ],
   "source": [
    "print(\"pakistan\")\n",
    "try:\n",
    "    with open('abc.txt') as f: # FIle not found error will arise\n",
    "        pass\n",
    "except(ZeroDivisionError,IndexError,KeyError,FileNotFoundError):\n",
    "    print(\"try again\")\n",
    "print(\"pakistan\")\n"
   ]
  },
  {
   "cell_type": "code",
   "execution_count": 229,
   "id": "b584c485-c8c5-4cd0-8126-5ab04007e0f0",
   "metadata": {},
   "outputs": [
    {
     "name": "stdout",
     "output_type": "stream",
     "text": [
      "pakistan\n",
      "pakistan\n"
     ]
    }
   ],
   "source": [
    "print(\"pakistan\")\n",
    "try:\n",
    "    with open('attendance.txt') as f: # File is saved in the folder so it will be opened. This \"with open('filename.txt') as f:\" is important\n",
    "        pass\n",
    "except(ZeroDivisionError,IndexError,KeyError,FileNotFoundError):\n",
    "    print(\"try again\")\n",
    "print(\"pakistan\")\n"
   ]
  },
  {
   "cell_type": "code",
   "execution_count": null,
   "id": "6b2833cb-4828-4be1-bd04-376de4c60b8e",
   "metadata": {},
   "outputs": [],
   "source": [
    "# I you want different messages for different error you will have to use try except for each error."
   ]
  },
  {
   "cell_type": "code",
   "execution_count": 172,
   "id": "8f08e816-ac84-406e-bf1f-41d7724e5781",
   "metadata": {},
   "outputs": [
    {
     "name": "stdout",
     "output_type": "stream",
     "text": [
      "pakistan\n",
      "try again\n",
      "Index does not exist\n",
      "enter correct key name\n",
      "apkistan\n"
     ]
    }
   ],
   "source": [
    "print(\"pakistan\")\n",
    "try:\n",
    "    with open('abc.txt') as f:\n",
    "        pass\n",
    "except(FileNotFoundError):\n",
    "    print(\"try again\")\n",
    "a=[2,3]\n",
    "try:\n",
    "    a[7]\n",
    "\n",
    "except IndexError:\n",
    "    print(\"Index does not exist\")\n",
    "\n",
    "b={\"name\":\"saadi\"}\n",
    "try:\n",
    "    b[\"age\"]\n",
    "\n",
    "except KeyError:\n",
    "    print(\"enter correct key name\")\n",
    "\n",
    "print(\"apkistan\")\n",
    "# for some possible run time error (many out there, these are just a few) seperate try and except are used to display different messages."
   ]
  },
  {
   "cell_type": "code",
   "execution_count": 174,
   "id": "b6ff6f50-a4e6-4b94-bd18-b35d5b0393fb",
   "metadata": {},
   "outputs": [],
   "source": [
    "# You can make this try and error dynamic to display the error name as well using Exception class."
   ]
  },
  {
   "cell_type": "code",
   "execution_count": 184,
   "id": "62edfaa7-cfbb-4933-903f-47c44d8cd72e",
   "metadata": {},
   "outputs": [
    {
     "name": "stdout",
     "output_type": "stream",
     "text": [
      "division by zero\n",
      "sorry\n"
     ]
    }
   ],
   "source": [
    "try:\n",
    "    print(7/0)\n",
    "\n",
    "except Exception as e: # Error name will be printed.\n",
    "    print(e)\n",
    "    print(\"sorry\")\n",
    "    \n",
    "else: print(\"try again\") # this else command will run if error doesn't arises."
   ]
  },
  {
   "cell_type": "code",
   "execution_count": 186,
   "id": "fa7ca484-1cf4-4202-a794-a6c9b41bdd3c",
   "metadata": {},
   "outputs": [
    {
     "name": "stdout",
     "output_type": "stream",
     "text": [
      "3.5\n",
      "try again\n"
     ]
    }
   ],
   "source": [
    "try:\n",
    "    print(7/2)\n",
    "\n",
    "except Exception as e: # Error name will be printed.\n",
    "    print(e)\n",
    "    print(\"sorry\")\n",
    "    \n",
    "else: print(\"try again\") # this else command will run if error doesn't arises."
   ]
  },
  {
   "cell_type": "code",
   "execution_count": 188,
   "id": "f2471595-c2ed-4c6f-96a8-8d1dcf43111d",
   "metadata": {},
   "outputs": [
    {
     "name": "stdout",
     "output_type": "stream",
     "text": [
      "division by zero\n",
      "sorry\n",
      "try again\n"
     ]
    }
   ],
   "source": [
    "try:\n",
    "    print(7/0)\n",
    "\n",
    "except Exception as e: # Error name will be printed.\n",
    "    print(e)\n",
    "    print(\"sorry\")\n",
    "    \n",
    "finally: print(\"try again\") # finally block will run every time despite of any error or not."
   ]
  },
  {
   "cell_type": "markdown",
   "id": "ed629a0b-a359-4590-9e74-6f1434a109f9",
   "metadata": {},
   "source": [
    "## Raise"
   ]
  },
  {
   "cell_type": "code",
   "execution_count": 190,
   "id": "8ee6497f-440b-4713-9bbd-5af46994c168",
   "metadata": {},
   "outputs": [],
   "source": [
    "# You can also include restrictions in your package to raise/generate errors if particular logic is included in the restriction. For e.g PGD class can enroll students between 18-30 years of age so if someone tries to enter the data of a 15 year old student then your package will raise an error."
   ]
  },
  {
   "cell_type": "code",
   "execution_count": 275,
   "id": "e78baade-e24f-4a66-9009-12911ffcf317",
   "metadata": {},
   "outputs": [
    {
     "name": "stdout",
     "output_type": "stream",
     "text": [
      "25\n"
     ]
    }
   ],
   "source": [
    "class students():\n",
    "    def __init__(self,name,age):\n",
    "        if age<18 or age>40:\n",
    "            raise Exception(\"Your age does not fall in criteria\") # This raise command will raise an error when age doesn't fall in criteria.\n",
    "        self.name=name\n",
    "        self.age=age\n",
    "\n",
    "a=students(\"Asif\",25)\n",
    "print(a.age)  # Since age is in criteria it will print."
   ]
  },
  {
   "cell_type": "code",
   "execution_count": 271,
   "id": "87225f04-5699-429a-968b-9ad3098cef9f",
   "metadata": {},
   "outputs": [
    {
     "ename": "Exception",
     "evalue": "Your age does not fall in criteria",
     "output_type": "error",
     "traceback": [
      "\u001b[1;31m---------------------------------------------------------------------------\u001b[0m",
      "\u001b[1;31mException\u001b[0m                                 Traceback (most recent call last)",
      "Cell \u001b[1;32mIn[271], line 8\u001b[0m\n\u001b[0;32m      5\u001b[0m         \u001b[38;5;28mself\u001b[39m\u001b[38;5;241m.\u001b[39mname\u001b[38;5;241m=\u001b[39mname\n\u001b[0;32m      6\u001b[0m         \u001b[38;5;28mself\u001b[39m\u001b[38;5;241m.\u001b[39mage\u001b[38;5;241m=\u001b[39mage\n\u001b[1;32m----> 8\u001b[0m b\u001b[38;5;241m=\u001b[39mstudents(\u001b[38;5;124m\"\u001b[39m\u001b[38;5;124mlaiba\u001b[39m\u001b[38;5;124m\"\u001b[39m,\u001b[38;5;241m17\u001b[39m)\n\u001b[0;32m      9\u001b[0m \u001b[38;5;28mprint\u001b[39m(b\u001b[38;5;241m.\u001b[39mage)\n",
      "Cell \u001b[1;32mIn[271], line 4\u001b[0m, in \u001b[0;36mstudents.__init__\u001b[1;34m(self, name, age)\u001b[0m\n\u001b[0;32m      2\u001b[0m \u001b[38;5;28;01mdef\u001b[39;00m \u001b[38;5;21m__init__\u001b[39m(\u001b[38;5;28mself\u001b[39m,name,age):\n\u001b[0;32m      3\u001b[0m     \u001b[38;5;28;01mif\u001b[39;00m age\u001b[38;5;241m<\u001b[39m\u001b[38;5;241m18\u001b[39m \u001b[38;5;129;01mor\u001b[39;00m age\u001b[38;5;241m>\u001b[39m\u001b[38;5;241m40\u001b[39m:\n\u001b[1;32m----> 4\u001b[0m         \u001b[38;5;28;01mraise\u001b[39;00m \u001b[38;5;167;01mException\u001b[39;00m(\u001b[38;5;124m\"\u001b[39m\u001b[38;5;124mYour age does not fall in criteria\u001b[39m\u001b[38;5;124m\"\u001b[39m) \u001b[38;5;66;03m# This raise command will raise an error when age doesn't fall in criteria.\u001b[39;00m\n\u001b[0;32m      5\u001b[0m     \u001b[38;5;28mself\u001b[39m\u001b[38;5;241m.\u001b[39mname\u001b[38;5;241m=\u001b[39mname\n\u001b[0;32m      6\u001b[0m     \u001b[38;5;28mself\u001b[39m\u001b[38;5;241m.\u001b[39mage\u001b[38;5;241m=\u001b[39mage\n",
      "\u001b[1;31mException\u001b[0m: Your age does not fall in criteria"
     ]
    }
   ],
   "source": [
    "class students():\n",
    "    def __init__(self,name,age):\n",
    "        if age<18 or age>40:\n",
    "            raise Exception(\"Your age does not fall in criteria\") # This raise command will raise an error when age doesn't fall in criteria.\n",
    "        self.name=name\n",
    "        self.age=age\n",
    "\n",
    "b=students(\"laiba\",17)\n",
    "print(b.age)  # Error generated with the message you want to display. check last line of error to see your message."
   ]
  },
  {
   "cell_type": "markdown",
   "id": "f3b610d6-d844-454b-9fab-829991b4f594",
   "metadata": {},
   "source": [
    "## Date Time"
   ]
  },
  {
   "cell_type": "code",
   "execution_count": null,
   "id": "57dcee28-1989-4b68-9939-e6993931658e",
   "metadata": {},
   "outputs": [],
   "source": [
    "# DataTime package in python is to be imported when you want to work around date and time. It supports arthmetic operations that can be performed on it."
   ]
  },
  {
   "cell_type": "code",
   "execution_count": 294,
   "id": "9775d4dc-b909-4ccd-84fb-c7eba6f28e6e",
   "metadata": {},
   "outputs": [
    {
     "name": "stdout",
     "output_type": "stream",
     "text": [
      "2025-05-11 09:38:23.537639\n"
     ]
    }
   ],
   "source": [
    "import datetime as dt\n",
    "x=dt.datetime.now()\n",
    "print(x)"
   ]
  },
  {
   "cell_type": "code",
   "execution_count": 296,
   "id": "9cbb7675-2647-4b54-b790-0a9c80c76333",
   "metadata": {},
   "outputs": [
    {
     "name": "stdout",
     "output_type": "stream",
     "text": [
      "2025\n",
      "5\n",
      "11\n",
      "9\n",
      "38\n",
      "23\n"
     ]
    }
   ],
   "source": [
    "print(x.year)\n",
    "print(x.month)\n",
    "print(x.day)\n",
    "print(x.hour)\n",
    "print(x.minute)\n",
    "print(x.second)\n",
    "# All these values are coming integers whcih means you can also customize the values in string."
   ]
  },
  {
   "cell_type": "code",
   "execution_count": null,
   "id": "5bc6e204-c807-47ce-a895-d966117c622c",
   "metadata": {},
   "outputs": [],
   "source": [
    "#strftime is a function for date time that converts date object in text date or text date into date object."
   ]
  },
  {
   "cell_type": "code",
   "execution_count": 300,
   "id": "4d47db1d-11a1-4327-bb65-b6a7378ca73a",
   "metadata": {},
   "outputs": [
    {
     "data": {
      "text/plain": [
       "'25'"
      ]
     },
     "execution_count": 300,
     "metadata": {},
     "output_type": "execute_result"
    }
   ],
   "source": [
    "x.strftime('%y')"
   ]
  },
  {
   "cell_type": "code",
   "execution_count": 302,
   "id": "24ff0f6e-40d6-4602-8fa8-2f39420ff835",
   "metadata": {},
   "outputs": [
    {
     "data": {
      "text/plain": [
       "'2025'"
      ]
     },
     "execution_count": 302,
     "metadata": {},
     "output_type": "execute_result"
    }
   ],
   "source": [
    "x.strftime('%Y')"
   ]
  },
  {
   "cell_type": "code",
   "execution_count": 306,
   "id": "553e447a-6846-4695-9eda-b1555000bdb1",
   "metadata": {},
   "outputs": [
    {
     "data": {
      "text/plain": [
       "'May'"
      ]
     },
     "execution_count": 306,
     "metadata": {},
     "output_type": "execute_result"
    }
   ],
   "source": [
    "x.strftime('%b') # Short form of month will be given like Sep for September."
   ]
  },
  {
   "cell_type": "code",
   "execution_count": 308,
   "id": "a857289d-fa5c-4e54-8431-7dc73a50afd0",
   "metadata": {},
   "outputs": [
    {
     "data": {
      "text/plain": [
       "'May'"
      ]
     },
     "execution_count": 308,
     "metadata": {},
     "output_type": "execute_result"
    }
   ],
   "source": [
    "x.strftime('%B') # Full form of month."
   ]
  },
  {
   "cell_type": "code",
   "execution_count": 314,
   "id": "8eda3084-017a-4df5-91bb-6a2a1e842854",
   "metadata": {},
   "outputs": [
    {
     "data": {
      "text/plain": [
       "'11 Sunday, 2025, 0938AM'"
      ]
     },
     "execution_count": 314,
     "metadata": {},
     "output_type": "execute_result"
    }
   ],
   "source": [
    "x.strftime('%d %A, %Y, %I%M%p') # see that you have converted the time as per your own format strftime."
   ]
  },
  {
   "cell_type": "code",
   "execution_count": 318,
   "id": "9855d24c-bd9a-44c6-9926-422284af67d0",
   "metadata": {},
   "outputs": [
    {
     "data": {
      "text/plain": [
       "'131'"
      ]
     },
     "execution_count": 318,
     "metadata": {},
     "output_type": "execute_result"
    }
   ],
   "source": [
    "x.strftime(\"%j\") # 131st day of the year out of 365 days of 2025."
   ]
  },
  {
   "cell_type": "code",
   "execution_count": 328,
   "id": "ec9955c0-6bf2-4ead-b64d-3aa879c59d50",
   "metadata": {},
   "outputs": [
    {
     "data": {
      "text/plain": [
       "35.89041095890411"
      ]
     },
     "execution_count": 328,
     "metadata": {},
     "output_type": "execute_result"
    }
   ],
   "source": [
    "int(x.strftime(\"%j\"))/365 *100 # showing that 35% of the year is gone. You can perform every arthematic operations on datetime."
   ]
  },
  {
   "cell_type": "markdown",
   "id": "98f03dc3-86f6-4eeb-8267-d618106b1c4d",
   "metadata": {},
   "source": [
    "### Google strftime to get complete list of codes for different operations."
   ]
  },
  {
   "cell_type": "code",
   "execution_count": null,
   "id": "d4894e2d-b785-419c-9c49-cf9f6dbf7f88",
   "metadata": {},
   "outputs": [],
   "source": []
  },
  {
   "cell_type": "code",
   "execution_count": null,
   "id": "01eecba7-71c4-4f4d-97de-6a73fd5952e4",
   "metadata": {},
   "outputs": [],
   "source": []
  },
  {
   "cell_type": "code",
   "execution_count": null,
   "id": "fe5a6342-c35b-4ee1-b67b-8d69d2c4bf0d",
   "metadata": {},
   "outputs": [],
   "source": []
  },
  {
   "cell_type": "code",
   "execution_count": null,
   "id": "56aaa1e2-ac44-4d86-a757-728c968de69e",
   "metadata": {},
   "outputs": [],
   "source": []
  },
  {
   "cell_type": "code",
   "execution_count": null,
   "id": "0c67bc95-92aa-4de3-9fd4-48c1123e6aad",
   "metadata": {},
   "outputs": [],
   "source": []
  },
  {
   "cell_type": "code",
   "execution_count": null,
   "id": "d923bc2e-6bf8-4128-91a7-42195fbbc60a",
   "metadata": {},
   "outputs": [],
   "source": []
  },
  {
   "cell_type": "code",
   "execution_count": null,
   "id": "457aebe8-21df-4217-a2dd-0ff7bbee0ba3",
   "metadata": {},
   "outputs": [],
   "source": []
  },
  {
   "cell_type": "code",
   "execution_count": null,
   "id": "71d27495-ba3a-4fbf-8595-1cec16807f25",
   "metadata": {},
   "outputs": [],
   "source": []
  },
  {
   "cell_type": "code",
   "execution_count": null,
   "id": "7a401101-6dd0-4d5c-9796-d70fbc6696ac",
   "metadata": {},
   "outputs": [],
   "source": []
  },
  {
   "cell_type": "code",
   "execution_count": null,
   "id": "b72e4059-965b-4fcf-b948-0ee4c64d4c2d",
   "metadata": {},
   "outputs": [],
   "source": []
  }
 ],
 "metadata": {
  "kernelspec": {
   "display_name": "Python [conda env:base] *",
   "language": "python",
   "name": "conda-base-py"
  },
  "language_info": {
   "codemirror_mode": {
    "name": "ipython",
    "version": 3
   },
   "file_extension": ".py",
   "mimetype": "text/x-python",
   "name": "python",
   "nbconvert_exporter": "python",
   "pygments_lexer": "ipython3",
   "version": "3.12.7"
  }
 },
 "nbformat": 4,
 "nbformat_minor": 5
}
